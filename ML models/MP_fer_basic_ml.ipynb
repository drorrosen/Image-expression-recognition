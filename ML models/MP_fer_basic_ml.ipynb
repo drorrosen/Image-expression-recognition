{
  "nbformat": 4,
  "nbformat_minor": 0,
  "metadata": {
    "colab": {
      "name": "MP_fer_basic_ml.ipynb",
      "provenance": []
    },
    "kernelspec": {
      "name": "python3",
      "display_name": "Python 3"
    }
  },
  "cells": [
    {
      "cell_type": "code",
      "metadata": {
        "id": "sV46R_AyA7Kf",
        "colab_type": "code",
        "colab": {}
      },
      "source": [
        "# additional imports\n",
        "import os\n",
        "from sklearn.ensemble import RandomForestClassifier\n",
        "from sklearn.metrics import classification_report, accuracy_score, confusion_matrix\n",
        "from sklearn.preprocessing import MinMaxScaler # we can also do /X.max() \n",
        "from xgboost import XGBClassifier\n",
        "\n",
        "import joblib\n",
        "import pandas as pd\n",
        "import matplotlib.pyplot as plt\n",
        "import seaborn as sns\n",
        "import numpy as np\n",
        "\n",
        "BASE_PATH = '/content/drive/My Drive/'\n",
        "PATH_DEV_NODUP = os.path.join(BASE_PATH, 'fer_dev_nodup.csv') \n",
        "PATH_PRIVATE_TEST_NO_DUP = os.path.join(BASE_PATH, 'fer_test_nodup.csv')\n",
        "BALANCED5k_PATH = os.path.join(BASE_PATH, 'balanced5k.csv') # old one\n",
        "BALANCEDnk_PATH = os.path.join(BASE_PATH, 'balancednk.csv') # 3rd\n",
        "BALANCED1408_PATH = os.path.join(BASE_PATH, 'balanced_1408.csv') # last"
      ],
      "execution_count": 29,
      "outputs": []
    },
    {
      "cell_type": "code",
      "metadata": {
        "id": "CeEsTtc357Tz",
        "colab_type": "code",
        "colab": {
          "base_uri": "https://localhost:8080/",
          "height": 121
        },
        "outputId": "28e3dfe7-7698-49af-d47e-5ce317ac9705"
      },
      "source": [
        "from google.colab import drive\n",
        "drive.mount('/content/drive')"
      ],
      "execution_count": 9,
      "outputs": [
        {
          "output_type": "stream",
          "text": [
            "Go to this URL in a browser: https://accounts.google.com/o/oauth2/auth?client_id=947318989803-6bn6qk8qdgf4n4g3pfee6491hc0brc4i.apps.googleusercontent.com&redirect_uri=urn%3aietf%3awg%3aoauth%3a2.0%3aoob&scope=email%20https%3a%2f%2fwww.googleapis.com%2fauth%2fdocs.test%20https%3a%2f%2fwww.googleapis.com%2fauth%2fdrive%20https%3a%2f%2fwww.googleapis.com%2fauth%2fdrive.photos.readonly%20https%3a%2f%2fwww.googleapis.com%2fauth%2fpeopleapi.readonly&response_type=code\n",
            "\n",
            "Enter your authorization code:\n",
            "··········\n",
            "Mounted at /content/drive\n"
          ],
          "name": "stdout"
        }
      ]
    },
    {
      "cell_type": "markdown",
      "metadata": {
        "id": "PNJi-i0K-z-e",
        "colab_type": "text"
      },
      "source": [
        "## 0. Let's see the data first"
      ]
    },
    {
      "cell_type": "markdown",
      "metadata": {
        "id": "EnUq_dB-BZ9Z",
        "colab_type": "text"
      },
      "source": [
        "train"
      ]
    },
    {
      "cell_type": "code",
      "metadata": {
        "id": "-kIq4G1jSw8R",
        "colab_type": "code",
        "colab": {
          "base_uri": "https://localhost:8080/",
          "height": 151
        },
        "outputId": "ed69d1e9-173b-4639-9e0c-e9007676006c"
      },
      "source": [
        "balanced1408 = pd.read_csv(BALANCED1408_PATH).drop('Unnamed: 0', axis=1)\n",
        "balanced1408.emotion.value_counts()"
      ],
      "execution_count": 10,
      "outputs": [
        {
          "output_type": "execute_result",
          "data": {
            "text/plain": [
              "6    5000\n",
              "5    5000\n",
              "4    5000\n",
              "3    5000\n",
              "2    5000\n",
              "0    5000\n",
              "1    2292\n",
              "Name: emotion, dtype: int64"
            ]
          },
          "metadata": {
            "tags": []
          },
          "execution_count": 10
        }
      ]
    },
    {
      "cell_type": "markdown",
      "metadata": {
        "id": "NJQAXlh4BcJY",
        "colab_type": "text"
      },
      "source": [
        "test, aka dev"
      ]
    },
    {
      "cell_type": "code",
      "metadata": {
        "id": "_yKf7J1ABAmD",
        "colab_type": "code",
        "colab": {}
      },
      "source": [
        "dev = pd.read_csv(PATH_DEV_NODUP).drop('Unnamed: 0', axis=1)\n",
        "X_test, y_test = dev.drop('emotion', axis=1), dev.emotion.values"
      ],
      "execution_count": 11,
      "outputs": []
    },
    {
      "cell_type": "markdown",
      "metadata": {
        "id": "YC5FRR7R9YUY",
        "colab_type": "text"
      },
      "source": [
        "## 1. Select small balanced chunk of data"
      ]
    },
    {
      "cell_type": "markdown",
      "metadata": {
        "id": "xjSBRoCa6OOk",
        "colab_type": "text"
      },
      "source": [
        "Since we can see that label 1 has the least number of smaples, so let's pick maximal balanced chunk according to label 1:"
      ]
    },
    {
      "cell_type": "code",
      "metadata": {
        "id": "bIhA5sW09fSQ",
        "colab_type": "code",
        "colab": {
          "base_uri": "https://localhost:8080/",
          "height": 151
        },
        "outputId": "7e66c072-9055-4fc1-beed-5338d73ab544"
      },
      "source": [
        "ideal = balanced1408[balanced1408.emotion==1]\n",
        "for label in [0, 2, 3, 4, 5, 6]:\n",
        "    new_chunk = balanced1408[balanced1408.emotion == label].sample(balanced1408.emotion.value_counts()[1])\n",
        "    ideal = ideal.append(new_chunk)\n",
        "\n",
        "ideal.emotion.value_counts()"
      ],
      "execution_count": 12,
      "outputs": [
        {
          "output_type": "execute_result",
          "data": {
            "text/plain": [
              "6    2292\n",
              "5    2292\n",
              "4    2292\n",
              "3    2292\n",
              "2    2292\n",
              "1    2292\n",
              "0    2292\n",
              "Name: emotion, dtype: int64"
            ]
          },
          "metadata": {
            "tags": []
          },
          "execution_count": 12
        }
      ]
    },
    {
      "cell_type": "markdown",
      "metadata": {
        "id": "zi91sBnaDM91",
        "colab_type": "text"
      },
      "source": [
        "We will use it as train set"
      ]
    },
    {
      "cell_type": "code",
      "metadata": {
        "id": "pEVHKrDA9fVq",
        "colab_type": "code",
        "colab": {}
      },
      "source": [
        "X_train, y_train = ideal.drop('emotion', axis=1), ideal.emotion.values"
      ],
      "execution_count": 13,
      "outputs": []
    },
    {
      "cell_type": "markdown",
      "metadata": {
        "id": "VWhR36mhFSq1",
        "colab_type": "text"
      },
      "source": [
        "# Basic ML models on small balanced set"
      ]
    },
    {
      "cell_type": "markdown",
      "metadata": {
        "id": "eCJU_EBxAwer",
        "colab_type": "text"
      },
      "source": [
        "## 3. XGB"
      ]
    },
    {
      "cell_type": "code",
      "metadata": {
        "id": "I5ydi7vH9fev",
        "colab_type": "code",
        "colab": {
          "base_uri": "https://localhost:8080/",
          "height": 710
        },
        "outputId": "f6b6fd8a-1c1c-47f7-f1ab-982dafc17865"
      },
      "source": [
        "xgb = XGBClassifier()\n",
        "xgb.fit(X_train, y_train)\n",
        "y_pred_xgb = xgb.predict(X_test)\n",
        "print(f'Accuracy score after XGB with default params on balanced and not scaled data: \\\n",
        "{accuracy_score(y_test, y_pred_xgb)}\\n')\n",
        "print(f'Classification report: \\n{classification_report(y_test, y_pred_xgb)}\\n')\n",
        "plt.figure(figsize=(8, 6))\n",
        "sns.heatmap(confusion_matrix(y_test, y_pred_xgb), annot=True, \n",
        "            cmap='Blues')\n",
        "plt.title('Confusion matrix')"
      ],
      "execution_count": 22,
      "outputs": [
        {
          "output_type": "stream",
          "text": [
            "Accuracy score after XGB with default params on balanced and not scaled data: 0.3753416337686001\n",
            "\n",
            "Classification report: \n",
            "              precision    recall  f1-score   support\n",
            "\n",
            "           0       0.28      0.17      0.21       435\n",
            "           1       0.03      0.02      0.03        41\n",
            "           2       0.24      0.17      0.20       445\n",
            "           3       0.50      0.54      0.52       865\n",
            "           4       0.35      0.38      0.36       625\n",
            "           5       0.38      0.45      0.41       296\n",
            "           6       0.35      0.42      0.38       586\n",
            "\n",
            "    accuracy                           0.38      3293\n",
            "   macro avg       0.30      0.31      0.30      3293\n",
            "weighted avg       0.36      0.38      0.37      3293\n",
            "\n",
            "\n"
          ],
          "name": "stdout"
        },
        {
          "output_type": "execute_result",
          "data": {
            "text/plain": [
              "Text(0.5, 1.0, 'Confusion matrix')"
            ]
          },
          "metadata": {
            "tags": []
          },
          "execution_count": 22
        },
        {
          "output_type": "display_data",
          "data": {
            "image/png": "[encoded data removed]",
            "text/plain": [
              "<Figure size 576x432 with 2 Axes>"
            ]
          },
          "metadata": {
            "tags": [],
            "needs_background": "light"
          }
        }
      ]
    },
    {
      "cell_type": "markdown",
      "metadata": {
        "id": "FKO19fpFFMOc",
        "colab_type": "text"
      },
      "source": [
        "## 4. RFC"
      ]
    },
    {
      "cell_type": "code",
      "metadata": {
        "id": "Y16YzUAYFGqB",
        "colab_type": "code",
        "colab": {
          "base_uri": "https://localhost:8080/",
          "height": 710
        },
        "outputId": "227c29a9-4f56-4d4d-8b17-8fad53af2b7f"
      },
      "source": [
        "rfc = RandomForestClassifier()\n",
        "rfc.fit(X_train, y_train)\n",
        "y_pred_rfc = rfc.predict(X_test)\n",
        "print(f'Accuracy score after RFC with default params on balanced and not scaled data: \\\n",
        "{accuracy_score(y_test, y_pred_rfc)}\\n')\n",
        "print(f'Classification report: \\n{classification_report(y_test, y_pred_rfc)}\\n')\n",
        "\n",
        "plt.figure(figsize=(8, 6))\n",
        "sns.heatmap(confusion_matrix(y_test, y_pred_rfc), annot=True, \n",
        "            cmap='Blues')\n",
        "plt.title('Confusion matrix')"
      ],
      "execution_count": 23,
      "outputs": [
        {
          "output_type": "stream",
          "text": [
            "Accuracy score after RFC with default params on balanced and not scaled data: 0.377163680534467\n",
            "\n",
            "Classification report: \n",
            "              precision    recall  f1-score   support\n",
            "\n",
            "           0       0.28      0.23      0.25       435\n",
            "           1       0.30      0.22      0.25        41\n",
            "           2       0.24      0.22      0.23       445\n",
            "           3       0.53      0.51      0.52       865\n",
            "           4       0.34      0.39      0.36       625\n",
            "           5       0.42      0.46      0.44       296\n",
            "           6       0.35      0.37      0.36       586\n",
            "\n",
            "    accuracy                           0.38      3293\n",
            "   macro avg       0.35      0.34      0.34      3293\n",
            "weighted avg       0.37      0.38      0.38      3293\n",
            "\n",
            "\n"
          ],
          "name": "stdout"
        },
        {
          "output_type": "execute_result",
          "data": {
            "text/plain": [
              "Text(0.5, 1.0, 'Confusion matrix')"
            ]
          },
          "metadata": {
            "tags": []
          },
          "execution_count": 23
        },
        {
          "output_type": "display_data",
          "data": {
            "image/png": "[encoded data removed]",
            "text/plain": [
              "<Figure size 576x432 with 2 Axes>"
            ]
          },
          "metadata": {
            "tags": [],
            "needs_background": "light"
          }
        }
      ]
    },
    {
      "cell_type": "markdown",
      "metadata": {
        "id": "FSSayeZfG5J9",
        "colab_type": "text"
      },
      "source": [
        "OK, not good, so let's take the whole data"
      ]
    },
    {
      "cell_type": "markdown",
      "metadata": {
        "id": "un1r8dgvG_n1",
        "colab_type": "text"
      },
      "source": [
        "# Basic ML on larger data"
      ]
    },
    {
      "cell_type": "code",
      "metadata": {
        "id": "jG1J-9yDHK3_",
        "colab_type": "code",
        "colab": {}
      },
      "source": [
        "X_trainb, y_trainb = balanced1408.drop('emotion', axis=1), balanced1408.emotion.values"
      ],
      "execution_count": 24,
      "outputs": []
    },
    {
      "cell_type": "code",
      "metadata": {
        "id": "oPvktMWTHLA4",
        "colab_type": "code",
        "colab": {
          "base_uri": "https://localhost:8080/",
          "height": 710
        },
        "outputId": "08591502-068f-4376-c30c-e878619619c3"
      },
      "source": [
        "rfcb = RandomForestClassifier()\n",
        "rfcb.fit(X_trainb, y_trainb)\n",
        "y_pred_rfcb = rfcb.predict(X_test)\n",
        "print(f'Accuracy score after RFC with default params on balanced5k.csv and not scaled data: \\\n",
        "{accuracy_score(y_test, y_pred_rfcb)}\\n')\n",
        "print(f'Classification report: \\n{classification_report(y_test, y_pred_rfcb)}\\n')\n",
        "plt.figure(figsize=(8, 6))\n",
        "sns.heatmap(confusion_matrix(y_test, y_pred_rfcb), annot=True, \n",
        "            cmap='Blues')\n",
        "plt.title('Confusion matrix')"
      ],
      "execution_count": 25,
      "outputs": [
        {
          "output_type": "stream",
          "text": [
            "Accuracy score after RFC with default params on balanced5k.csv and not scaled data: 0.4099605223200729\n",
            "\n",
            "Classification report: \n",
            "              precision    recall  f1-score   support\n",
            "\n",
            "           0       0.30      0.24      0.27       435\n",
            "           1       1.00      0.05      0.09        41\n",
            "           2       0.28      0.26      0.27       445\n",
            "           3       0.56      0.57      0.56       865\n",
            "           4       0.37      0.39      0.38       625\n",
            "           5       0.45      0.53      0.49       296\n",
            "           6       0.36      0.41      0.39       586\n",
            "\n",
            "    accuracy                           0.41      3293\n",
            "   macro avg       0.48      0.35      0.35      3293\n",
            "weighted avg       0.41      0.41      0.40      3293\n",
            "\n",
            "\n"
          ],
          "name": "stdout"
        },
        {
          "output_type": "execute_result",
          "data": {
            "text/plain": [
              "Text(0.5, 1.0, 'Confusion matrix')"
            ]
          },
          "metadata": {
            "tags": []
          },
          "execution_count": 25
        },
        {
          "output_type": "display_data",
          "data": {
            "image/png": "[encoded data removed]",
            "text/plain": [
              "<Figure size 576x432 with 2 Axes>"
            ]
          },
          "metadata": {
            "tags": [],
            "needs_background": "light"
          }
        }
      ]
    },
    {
      "cell_type": "code",
      "metadata": {
        "id": "5gcZg8A9HLL2",
        "colab_type": "code",
        "colab": {
          "base_uri": "https://localhost:8080/",
          "height": 710
        },
        "outputId": "623d6fa0-910a-474c-c26b-fe48708a51b3"
      },
      "source": [
        "xgbb = XGBClassifier()\n",
        "xgbb.fit(X_trainb, y_trainb)\n",
        "y_pred_xgbb = xgbb.predict(X_test)\n",
        "print(f'Accuracy score after XGB with default params on balanced5k.csv and not scaled data: \\\n",
        "{accuracy_score(y_test, y_pred_xgbb)}\\n')\n",
        "print(f'Classification report: \\n{classification_report(y_test, y_pred_xgbb)}\\n')\n",
        "plt.figure(figsize=(8, 6))\n",
        "sns.heatmap(confusion_matrix(y_test, y_pred_xgbb), annot=True, \n",
        "            cmap='Blues')\n",
        "plt.title('Confusion matrix')"
      ],
      "execution_count": 26,
      "outputs": [
        {
          "output_type": "stream",
          "text": [
            "Accuracy score after XGB with default params on balanced5k.csv and not scaled data: 0.38505921651989067\n",
            "\n",
            "Classification report: \n",
            "              precision    recall  f1-score   support\n",
            "\n",
            "           0       0.30      0.19      0.23       435\n",
            "           1       0.00      0.00      0.00        41\n",
            "           2       0.25      0.16      0.19       445\n",
            "           3       0.52      0.57      0.54       865\n",
            "           4       0.34      0.38      0.36       625\n",
            "           5       0.38      0.46      0.41       296\n",
            "           6       0.34      0.43      0.38       586\n",
            "\n",
            "    accuracy                           0.39      3293\n",
            "   macro avg       0.30      0.31      0.30      3293\n",
            "weighted avg       0.37      0.39      0.37      3293\n",
            "\n",
            "\n"
          ],
          "name": "stdout"
        },
        {
          "output_type": "execute_result",
          "data": {
            "text/plain": [
              "Text(0.5, 1.0, 'Confusion matrix')"
            ]
          },
          "metadata": {
            "tags": []
          },
          "execution_count": 26
        },
        {
          "output_type": "display_data",
          "data": {
            "image/png": "[encoded data removed]",
            "text/plain": [
              "<Figure size 576x432 with 2 Axes>"
            ]
          },
          "metadata": {
            "tags": [],
            "needs_background": "light"
          }
        }
      ]
    },
    {
      "cell_type": "markdown",
      "metadata": {
        "id": "gqCreVN0CO_3",
        "colab_type": "text"
      },
      "source": [
        "Okay then, let's save the best model and test it on PrivateTest. RFC reached rather good accuracy on larger data, so we will select this model"
      ]
    },
    {
      "cell_type": "markdown",
      "metadata": {
        "id": "r6mpe7o0Cgo7",
        "colab_type": "text"
      },
      "source": [
        "# Saving the model"
      ]
    },
    {
      "cell_type": "code",
      "metadata": {
        "id": "UawPSnnyHLVY",
        "colab_type": "code",
        "colab": {
          "base_uri": "https://localhost:8080/",
          "height": 34
        },
        "outputId": "7243c789-905b-4aba-d256-04bb480661db"
      },
      "source": [
        "import joblib\n",
        "\n",
        "filename = 'fer_best_ml_model.sav'\n",
        "joblib.dump(rfcb, filename)"
      ],
      "execution_count": 27,
      "outputs": [
        {
          "output_type": "execute_result",
          "data": {
            "text/plain": [
              "['fer_best_ml_model.sav']"
            ]
          },
          "metadata": {
            "tags": []
          },
          "execution_count": 27
        }
      ]
    },
    {
      "cell_type": "markdown",
      "metadata": {
        "id": "nv8_u42rC4w-",
        "colab_type": "text"
      },
      "source": [
        "# Test on Private Test"
      ]
    },
    {
      "cell_type": "markdown",
      "metadata": {
        "id": "DkqK2rl9C8S5",
        "colab_type": "text"
      },
      "source": [
        "Anyone can just take the model and check it on some set"
      ]
    },
    {
      "cell_type": "code",
      "metadata": {
        "id": "h-TPHpFvEHam",
        "colab_type": "code",
        "colab": {}
      },
      "source": [
        "# we will test our model on this new data it has never 'seen'\n",
        "private_test = pd.read_csv(PATH_PRIVATE_TEST_NO_DUP).drop('Unnamed: 0', axis=1)\n",
        "X_pt, y_pt = private_test.drop('emotion', axis=1), private_test.emotion.values"
      ],
      "execution_count": 30,
      "outputs": []
    },
    {
      "cell_type": "code",
      "metadata": {
        "id": "6ZGJ3yxRC61I",
        "colab_type": "code",
        "colab": {
          "base_uri": "https://localhost:8080/",
          "height": 34
        },
        "outputId": "1aa005e4-1019-477c-f0b4-8def4df056fd"
      },
      "source": [
        "# load the model & see the results :) \n",
        "loaded_model = joblib.load(filename)\n",
        "result = loaded_model.score(X_pt, y_pt)\n",
        "print(f'The accuracy of RFC on private test: {result}')"
      ],
      "execution_count": 31,
      "outputs": [
        {
          "output_type": "stream",
          "text": [
            "The accuracy of RFC on private test: 0.41003671970624234\n"
          ],
          "name": "stdout"
        }
      ]
    },
    {
      "cell_type": "code",
      "metadata": {
        "id": "TOckwT7_KPng",
        "colab_type": "code",
        "colab": {}
      },
      "source": [
        ""
      ],
      "execution_count": null,
      "outputs": []
    }
  ]
}